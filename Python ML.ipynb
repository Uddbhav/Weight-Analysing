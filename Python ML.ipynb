{
 "cells": [
  {
   "cell_type": "code",
   "execution_count": 3,
   "id": "d083e5d1",
   "metadata": {},
   "outputs": [
    {
     "name": "stdout",
     "output_type": "stream",
     "text": [
      "           Height      Weight       Index\n",
      "count  500.000000  500.000000  500.000000\n",
      "mean   169.944000  106.000000    3.748000\n",
      "std     16.375261   32.382607    1.355053\n",
      "min    140.000000   50.000000    0.000000\n",
      "25%    156.000000   80.000000    3.000000\n",
      "50%    170.500000  106.000000    4.000000\n",
      "75%    184.000000  136.000000    5.000000\n",
      "max    199.000000  160.000000    5.000000\n"
     ]
    },
    {
     "name": "stderr",
     "output_type": "stream",
     "text": [
      "C:\\Users\\uddma\\anaconda3\\lib\\site-packages\\seaborn\\_decorators.py:36: FutureWarning: Pass the following variables as keyword args: x, y, data. From version 0.12, the only valid positional argument will be `data`, and passing other arguments without an explicit keyword will result in an error or misinterpretation.\n",
      "  warnings.warn(\n",
      "C:\\Users\\uddma\\anaconda3\\lib\\site-packages\\seaborn\\regression.py:580: UserWarning: The `size` parameter has been renamed to `height`; please update your code.\n",
      "  warnings.warn(msg, UserWarning)\n"
     ]
    },
    {
     "name": "stdout",
     "output_type": "stream",
     "text": [
      "Fitting 5 folds for each of 9 candidates, totalling 45 fits\n",
      "[CV] n_estimators=100 ................................................\n"
     ]
    },
    {
     "name": "stderr",
     "output_type": "stream",
     "text": [
      "[Parallel(n_jobs=1)]: Using backend SequentialBackend with 1 concurrent workers.\n"
     ]
    },
    {
     "name": "stdout",
     "output_type": "stream",
     "text": [
      "[CV] .................... n_estimators=100, score=0.857, total=   0.6s\n",
      "[CV] n_estimators=100 ................................................\n"
     ]
    },
    {
     "name": "stderr",
     "output_type": "stream",
     "text": [
      "[Parallel(n_jobs=1)]: Done   1 out of   1 | elapsed:    0.5s remaining:    0.0s\n"
     ]
    },
    {
     "name": "stdout",
     "output_type": "stream",
     "text": [
      "[CV] .................... n_estimators=100, score=0.886, total=   0.3s\n",
      "[CV] n_estimators=100 ................................................\n"
     ]
    },
    {
     "name": "stderr",
     "output_type": "stream",
     "text": [
      "[Parallel(n_jobs=1)]: Done   2 out of   2 | elapsed:    0.9s remaining:    0.0s\n"
     ]
    },
    {
     "name": "stdout",
     "output_type": "stream",
     "text": [
      "[CV] .................... n_estimators=100, score=0.829, total=   0.5s\n",
      "[CV] n_estimators=100 ................................................\n",
      "[CV] .................... n_estimators=100, score=0.786, total=   0.4s\n",
      "[CV] n_estimators=100 ................................................\n",
      "[CV] .................... n_estimators=100, score=0.900, total=   0.3s\n",
      "[CV] n_estimators=200 ................................................\n",
      "[CV] .................... n_estimators=200, score=0.843, total=   0.7s\n",
      "[CV] n_estimators=200 ................................................\n",
      "[CV] .................... n_estimators=200, score=0.900, total=   0.7s\n",
      "[CV] n_estimators=200 ................................................\n",
      "[CV] .................... n_estimators=200, score=0.843, total=   0.6s\n",
      "[CV] n_estimators=200 ................................................\n",
      "[CV] .................... n_estimators=200, score=0.829, total=   0.7s\n",
      "[CV] n_estimators=200 ................................................\n",
      "[CV] .................... n_estimators=200, score=0.886, total=   0.8s\n",
      "[CV] n_estimators=300 ................................................\n",
      "[CV] .................... n_estimators=300, score=0.843, total=   1.0s\n",
      "[CV] n_estimators=300 ................................................\n",
      "[CV] .................... n_estimators=300, score=0.900, total=   1.4s\n",
      "[CV] n_estimators=300 ................................................\n",
      "[CV] .................... n_estimators=300, score=0.843, total=   1.2s\n",
      "[CV] n_estimators=300 ................................................\n",
      "[CV] .................... n_estimators=300, score=0.814, total=   1.3s\n",
      "[CV] n_estimators=300 ................................................\n",
      "[CV] .................... n_estimators=300, score=0.900, total=   1.4s\n",
      "[CV] n_estimators=400 ................................................\n",
      "[CV] .................... n_estimators=400, score=0.843, total=   1.6s\n",
      "[CV] n_estimators=400 ................................................\n",
      "[CV] .................... n_estimators=400, score=0.900, total=   1.4s\n",
      "[CV] n_estimators=400 ................................................\n",
      "[CV] .................... n_estimators=400, score=0.843, total=   1.3s\n",
      "[CV] n_estimators=400 ................................................\n",
      "[CV] .................... n_estimators=400, score=0.800, total=   1.3s\n",
      "[CV] n_estimators=400 ................................................\n",
      "[CV] .................... n_estimators=400, score=0.886, total=   1.3s\n",
      "[CV] n_estimators=500 ................................................\n",
      "[CV] .................... n_estimators=500, score=0.857, total=   1.9s\n",
      "[CV] n_estimators=500 ................................................\n",
      "[CV] .................... n_estimators=500, score=0.900, total=   1.7s\n",
      "[CV] n_estimators=500 ................................................\n",
      "[CV] .................... n_estimators=500, score=0.843, total=   1.8s\n",
      "[CV] n_estimators=500 ................................................\n",
      "[CV] .................... n_estimators=500, score=0.786, total=   1.8s\n",
      "[CV] n_estimators=500 ................................................\n",
      "[CV] .................... n_estimators=500, score=0.886, total=   1.7s\n",
      "[CV] n_estimators=600 ................................................\n",
      "[CV] .................... n_estimators=600, score=0.843, total=   2.8s\n",
      "[CV] n_estimators=600 ................................................\n",
      "[CV] .................... n_estimators=600, score=0.900, total=   2.1s\n",
      "[CV] n_estimators=600 ................................................\n",
      "[CV] .................... n_estimators=600, score=0.843, total=   2.3s\n",
      "[CV] n_estimators=600 ................................................\n",
      "[CV] .................... n_estimators=600, score=0.786, total=   2.3s\n",
      "[CV] n_estimators=600 ................................................\n",
      "[CV] .................... n_estimators=600, score=0.886, total=   2.2s\n",
      "[CV] n_estimators=700 ................................................\n",
      "[CV] .................... n_estimators=700, score=0.857, total=   2.7s\n",
      "[CV] n_estimators=700 ................................................\n",
      "[CV] .................... n_estimators=700, score=0.900, total=   2.5s\n",
      "[CV] n_estimators=700 ................................................\n",
      "[CV] .................... n_estimators=700, score=0.843, total=   2.5s\n",
      "[CV] n_estimators=700 ................................................\n",
      "[CV] .................... n_estimators=700, score=0.786, total=   2.5s\n",
      "[CV] n_estimators=700 ................................................\n",
      "[CV] .................... n_estimators=700, score=0.886, total=   2.4s\n",
      "[CV] n_estimators=800 ................................................\n",
      "[CV] .................... n_estimators=800, score=0.857, total=   2.5s\n",
      "[CV] n_estimators=800 ................................................\n",
      "[CV] .................... n_estimators=800, score=0.900, total=   2.8s\n",
      "[CV] n_estimators=800 ................................................\n",
      "[CV] .................... n_estimators=800, score=0.843, total=   2.8s\n",
      "[CV] n_estimators=800 ................................................\n",
      "[CV] .................... n_estimators=800, score=0.786, total=   2.7s\n",
      "[CV] n_estimators=800 ................................................\n",
      "[CV] .................... n_estimators=800, score=0.886, total=   2.6s\n",
      "[CV] n_estimators=1000 ...............................................\n",
      "[CV] ................... n_estimators=1000, score=0.857, total=   3.3s\n",
      "[CV] n_estimators=1000 ...............................................\n",
      "[CV] ................... n_estimators=1000, score=0.900, total=   3.3s\n",
      "[CV] n_estimators=1000 ...............................................\n",
      "[CV] ................... n_estimators=1000, score=0.829, total=   3.4s\n",
      "[CV] n_estimators=1000 ...............................................\n",
      "[CV] ................... n_estimators=1000, score=0.800, total=   3.3s\n",
      "[CV] n_estimators=1000 ...............................................\n",
      "[CV] ................... n_estimators=1000, score=0.886, total=   3.3s\n"
     ]
    },
    {
     "name": "stderr",
     "output_type": "stream",
     "text": [
      "[Parallel(n_jobs=1)]: Done  45 out of  45 | elapsed:  1.4min finished\n"
     ]
    },
    {
     "name": "stdout",
     "output_type": "stream",
     "text": [
      "{'n_estimators': 200}\n",
      "                 precision    recall  f1-score   support\n",
      "\n",
      "Extremely Obese       0.91      0.97      0.94        63\n",
      " Extremely Weak       1.00      1.00      1.00         1\n",
      "         Normal       0.92      0.96      0.94        23\n",
      "        Obesity       0.78      0.82      0.79        38\n",
      "     OverWeight       0.92      0.58      0.71        19\n",
      "           Weak       0.83      0.83      0.83         6\n",
      "\n",
      "       accuracy                           0.87       150\n",
      "      macro avg       0.89      0.86      0.87       150\n",
      "   weighted avg       0.88      0.87      0.87       150\n",
      "\n",
      "\n",
      "\n",
      "[[61  0  0  2  0  0]\n",
      " [ 0  1  0  0  0  0]\n",
      " [ 0  0 22  0  0  1]\n",
      " [ 6  0  0 31  1  0]\n",
      " [ 0  0  1  7 11  0]\n",
      " [ 0  0  1  0  0  5]]\n",
      "\n",
      "\n",
      "Acuuracy is -->  87.33333333333333\n",
      "\n",
      "\n",
      "OverWeight\n"
     ]
    },
    {
     "data": {
      "image/png": "[encoded data removed]",
      "text/plain": [
       "<Figure size 625.125x504 with 1 Axes>"
      ]
     },
     "metadata": {
      "needs_background": "light"
     },
     "output_type": "display_data"
    }
   ],
   "source": [
    "import numpy as np\n",
    "import pandas as pd\n",
    "import seaborn as sns\n",
    "import matplotlib.pyplot as plt\n",
    "from sklearn.preprocessing import StandardScaler\n",
    "from sklearn.ensemble import RandomForestClassifier\n",
    "from sklearn.model_selection import GridSearchCV, train_test_split\n",
    "from sklearn.metrics import classification_report,confusion_matrix,accuracy_score\n",
    "\n",
    "data = pd.read_csv('500_Person_Gender_Height_Weight_Index.csv')\n",
    "print(data.describe())\n",
    "\n",
    "def give_names_to_indices(ind):\n",
    "    if ind==0:\n",
    "        return 'Extremely Weak'\n",
    "    elif ind==1:\n",
    "        return 'Weak'\n",
    "    elif ind==2:\n",
    "        return 'Normal'\n",
    "    elif ind==3:\n",
    "        return 'OverWeight'\n",
    "    elif ind==4:\n",
    "        return 'Obesity'\n",
    "    elif ind==5:\n",
    "        return 'Extremely Obese'\n",
    "    \n",
    "data['Index'] = data['Index'].apply(give_names_to_indices)\n",
    "sns.lmplot('Height','Weight',data,hue='Index',size=7,aspect=1,fit_reg=False)\n",
    "people = data['Gender'].value_counts()\n",
    "categories = data['Index'].value_counts()\n",
    "\n",
    "# STATS FOR MEN\n",
    "data[data['Gender']=='Male']['Index'].value_counts()\n",
    "\n",
    "# STATS FOR WOMEN\n",
    "data[data['Gender']=='Female']['Index'].value_counts()\n",
    "\n",
    "data2 = pd.get_dummies(data['Gender'])\n",
    "data.drop('Gender',axis=1,inplace=True)\n",
    "data = pd.concat([data,data2],axis=1)\n",
    "y=data['Index']\n",
    "\n",
    "data =data.drop(['Index'],axis=1)\n",
    "scaler = StandardScaler()\n",
    "data = scaler.fit_transform(data)\n",
    "data=pd.DataFrame(data)\n",
    "\n",
    "X_train, X_test, y_train, y_test = train_test_split(data, y, test_size=0.3, random_state=101)\n",
    "param_grid = {'n_estimators':[100,200,300,400,500,600,700,800,1000]}\n",
    "grid_cv = GridSearchCV(RandomForestClassifier(random_state=101),param_grid,verbose=3)\n",
    "grid_cv.fit(X_train,y_train)\n",
    "print(grid_cv.best_params_)\n",
    "\n",
    "# weight category prediction\n",
    "pred = grid_cv.predict(X_test)\n",
    "print(classification_report(y_test,pred))\n",
    "print('\\n')\n",
    "print(confusion_matrix(y_test,pred))\n",
    "print('\\n')\n",
    "print('Acuuracy is --> ',accuracy_score(y_test,pred)*100)\n",
    "print('\\n')\n",
    "\n",
    "def lp(details):\n",
    "    gender = details[0]\n",
    "    height = details[1]\n",
    "    weight = details[2]\n",
    "    \n",
    "    if gender=='Male':\n",
    "        details=np.array([[np.float(height),np.float(weight),0.0,1.0]])\n",
    "    elif gender=='Female':\n",
    "        details=np.array([[np.float(height),np.float(weight),1.0,0.0]])\n",
    "    \n",
    "    y_pred = grid_cv.predict(scaler.transform(details))\n",
    "    return (y_pred[0])\n",
    "    \n",
    "#Live predictor\n",
    "your_details = ['Male',175,80]\n",
    "print(lp(your_details))"
   ]
  },
  {
   "cell_type": "code",
   "execution_count": null,
   "id": "f812a914",
   "metadata": {},
   "outputs": [],
   "source": []
  },
  {
   "cell_type": "code",
   "execution_count": null,
   "id": "a93e082d",
   "metadata": {},
   "outputs": [],
   "source": []
  }
 ],
 "metadata": {
  "kernelspec": {
   "display_name": "Python 3",
   "language": "python",
   "name": "python3"
  },
  "language_info": {
   "codemirror_mode": {
    "name": "ipython",
    "version": 3
   },
   "file_extension": ".py",
   "mimetype": "text/x-python",
   "name": "python",
   "nbconvert_exporter": "python",
   "pygments_lexer": "ipython3",
   "version": "3.8.8"
  }
 },
 "nbformat": 4,
 "nbformat_minor": 5
}
